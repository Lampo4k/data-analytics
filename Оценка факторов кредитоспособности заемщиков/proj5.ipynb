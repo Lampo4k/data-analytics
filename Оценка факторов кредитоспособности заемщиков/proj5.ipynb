{
 "cells": [
  {
   "cell_type": "markdown",
   "id": "9d9ca46f-66e4-41c1-a2ad-ad0829114657",
   "metadata": {},
   "source": [
    "# Исследование надежности заемщиков\n",
    "\n",
    "***Введение***\n",
    "- Описание задачи: анализ данных о заемщиках для выявления факторов, влияющих на возврат кредита в срок.\n",
    "\n",
    "***Обзор данных***\n",
    "- Описание данных: количество строк, столбцов, типы данных.\n",
    "- Проблемы в данных: пропуски, аномалии, дубликаты.\n",
    "\n",
    "***Предобработка данных***\n",
    "- Обработка пропусков: заполнение медианными значениями.\n",
    "- Обработка аномалий: удаление выбросов, преобразование данных.\n",
    "- Категоризация: создание новых переменных для анализа.\n",
    "\n",
    "***Анализ данных***\n",
    "- Гипотезы: формулировка гипотез.\n",
    "- Визуализация: графики и диаграммы.\n",
    "- Статистический анализ: проверка гипотез.\n",
    "\n",
    "***Выводы и рекомендации***\n",
    "- Ключевые выводы: какие факторы влияют на возврат кредита.\n",
    "- Рекомендации для банка: как улучшить кредитный скоринг.\n",
    "\n",
    "***Дополнительные исследования***\n",
    "- Сегментация клиентов.\n",
    "- Прогнозирование дефолтов."
   ]
  },
  {
   "cell_type": "markdown",
   "id": "260dedee-8898-4fc4-a135-77ec949cc6a5",
   "metadata": {},
   "source": [
    "## 1) Обзор данных"
   ]
  },
  {
   "cell_type": "code",
   "execution_count": 1,
   "id": "661a1764-ee09-436a-9f60-3305304838ae",
   "metadata": {},
   "outputs": [],
   "source": [
    "import pandas as pd\n",
    "import numpy as np\n",
    "import seaborn as sns\n",
    "import plotly.express as px\n",
    "import matplotlib.pyplot as plt\n",
    "from matplotlib import pyplot as plt"
   ]
  },
  {
   "cell_type": "code",
   "execution_count": 2,
   "id": "a5e1208e-f01c-4133-8fbd-f43added2aa0",
   "metadata": {},
   "outputs": [],
   "source": [
    "try:\n",
    "    data = pd.read_csv('/datasets/data.csv')\n",
    "except:\n",
    "    data = pd.read_csv('https://code.s3.yandex.net/datasets/data.csv')"
   ]
  },
  {
   "cell_type": "markdown",
   "id": "46ee3ac3-9d52-4724-9f3f-a47ca6d0eff6",
   "metadata": {},
   "source": [
    "***первые 10 строчек датафрейма и основная информация***"
   ]
  },
  {
   "cell_type": "code",
   "execution_count": 3,
   "id": "782a13a1-e34e-457b-aa0c-300d7f5411d8",
   "metadata": {},
   "outputs": [
    {
     "data": {
      "text/html": [
       "<div>\n",
       "<style scoped>\n",
       "    .dataframe tbody tr th:only-of-type {\n",
       "        vertical-align: middle;\n",
       "    }\n",
       "\n",
       "    .dataframe tbody tr th {\n",
       "        vertical-align: top;\n",
       "    }\n",
       "\n",
       "    .dataframe thead th {\n",
       "        text-align: right;\n",
       "    }\n",
       "</style>\n",
       "<table border=\"1\" class=\"dataframe\">\n",
       "  <thead>\n",
       "    <tr style=\"text-align: right;\">\n",
       "      <th></th>\n",
       "      <th>children</th>\n",
       "      <th>days_employed</th>\n",
       "      <th>dob_years</th>\n",
       "      <th>education</th>\n",
       "      <th>education_id</th>\n",
       "      <th>family_status</th>\n",
       "      <th>family_status_id</th>\n",
       "      <th>gender</th>\n",
       "      <th>income_type</th>\n",
       "      <th>debt</th>\n",
       "      <th>total_income</th>\n",
       "      <th>purpose</th>\n",
       "    </tr>\n",
       "  </thead>\n",
       "  <tbody>\n",
       "    <tr>\n",
       "      <th>0</th>\n",
       "      <td>1</td>\n",
       "      <td>-8437.673028</td>\n",
       "      <td>42</td>\n",
       "      <td>высшее</td>\n",
       "      <td>0</td>\n",
       "      <td>женат / замужем</td>\n",
       "      <td>0</td>\n",
       "      <td>F</td>\n",
       "      <td>сотрудник</td>\n",
       "      <td>0</td>\n",
       "      <td>253875.639453</td>\n",
       "      <td>покупка жилья</td>\n",
       "    </tr>\n",
       "    <tr>\n",
       "      <th>1</th>\n",
       "      <td>1</td>\n",
       "      <td>-4024.803754</td>\n",
       "      <td>36</td>\n",
       "      <td>среднее</td>\n",
       "      <td>1</td>\n",
       "      <td>женат / замужем</td>\n",
       "      <td>0</td>\n",
       "      <td>F</td>\n",
       "      <td>сотрудник</td>\n",
       "      <td>0</td>\n",
       "      <td>112080.014102</td>\n",
       "      <td>приобретение автомобиля</td>\n",
       "    </tr>\n",
       "    <tr>\n",
       "      <th>2</th>\n",
       "      <td>0</td>\n",
       "      <td>-5623.422610</td>\n",
       "      <td>33</td>\n",
       "      <td>Среднее</td>\n",
       "      <td>1</td>\n",
       "      <td>женат / замужем</td>\n",
       "      <td>0</td>\n",
       "      <td>M</td>\n",
       "      <td>сотрудник</td>\n",
       "      <td>0</td>\n",
       "      <td>145885.952297</td>\n",
       "      <td>покупка жилья</td>\n",
       "    </tr>\n",
       "    <tr>\n",
       "      <th>3</th>\n",
       "      <td>3</td>\n",
       "      <td>-4124.747207</td>\n",
       "      <td>32</td>\n",
       "      <td>среднее</td>\n",
       "      <td>1</td>\n",
       "      <td>женат / замужем</td>\n",
       "      <td>0</td>\n",
       "      <td>M</td>\n",
       "      <td>сотрудник</td>\n",
       "      <td>0</td>\n",
       "      <td>267628.550329</td>\n",
       "      <td>дополнительное образование</td>\n",
       "    </tr>\n",
       "    <tr>\n",
       "      <th>4</th>\n",
       "      <td>0</td>\n",
       "      <td>340266.072047</td>\n",
       "      <td>53</td>\n",
       "      <td>среднее</td>\n",
       "      <td>1</td>\n",
       "      <td>гражданский брак</td>\n",
       "      <td>1</td>\n",
       "      <td>F</td>\n",
       "      <td>пенсионер</td>\n",
       "      <td>0</td>\n",
       "      <td>158616.077870</td>\n",
       "      <td>сыграть свадьбу</td>\n",
       "    </tr>\n",
       "    <tr>\n",
       "      <th>5</th>\n",
       "      <td>0</td>\n",
       "      <td>-926.185831</td>\n",
       "      <td>27</td>\n",
       "      <td>высшее</td>\n",
       "      <td>0</td>\n",
       "      <td>гражданский брак</td>\n",
       "      <td>1</td>\n",
       "      <td>M</td>\n",
       "      <td>компаньон</td>\n",
       "      <td>0</td>\n",
       "      <td>255763.565419</td>\n",
       "      <td>покупка жилья</td>\n",
       "    </tr>\n",
       "    <tr>\n",
       "      <th>6</th>\n",
       "      <td>0</td>\n",
       "      <td>-2879.202052</td>\n",
       "      <td>43</td>\n",
       "      <td>высшее</td>\n",
       "      <td>0</td>\n",
       "      <td>женат / замужем</td>\n",
       "      <td>0</td>\n",
       "      <td>F</td>\n",
       "      <td>компаньон</td>\n",
       "      <td>0</td>\n",
       "      <td>240525.971920</td>\n",
       "      <td>операции с жильем</td>\n",
       "    </tr>\n",
       "    <tr>\n",
       "      <th>7</th>\n",
       "      <td>0</td>\n",
       "      <td>-152.779569</td>\n",
       "      <td>50</td>\n",
       "      <td>СРЕДНЕЕ</td>\n",
       "      <td>1</td>\n",
       "      <td>женат / замужем</td>\n",
       "      <td>0</td>\n",
       "      <td>M</td>\n",
       "      <td>сотрудник</td>\n",
       "      <td>0</td>\n",
       "      <td>135823.934197</td>\n",
       "      <td>образование</td>\n",
       "    </tr>\n",
       "    <tr>\n",
       "      <th>8</th>\n",
       "      <td>2</td>\n",
       "      <td>-6929.865299</td>\n",
       "      <td>35</td>\n",
       "      <td>ВЫСШЕЕ</td>\n",
       "      <td>0</td>\n",
       "      <td>гражданский брак</td>\n",
       "      <td>1</td>\n",
       "      <td>F</td>\n",
       "      <td>сотрудник</td>\n",
       "      <td>0</td>\n",
       "      <td>95856.832424</td>\n",
       "      <td>на проведение свадьбы</td>\n",
       "    </tr>\n",
       "    <tr>\n",
       "      <th>9</th>\n",
       "      <td>0</td>\n",
       "      <td>-2188.756445</td>\n",
       "      <td>41</td>\n",
       "      <td>среднее</td>\n",
       "      <td>1</td>\n",
       "      <td>женат / замужем</td>\n",
       "      <td>0</td>\n",
       "      <td>M</td>\n",
       "      <td>сотрудник</td>\n",
       "      <td>0</td>\n",
       "      <td>144425.938277</td>\n",
       "      <td>покупка жилья для семьи</td>\n",
       "    </tr>\n",
       "  </tbody>\n",
       "</table>\n",
       "</div>"
      ],
      "text/plain": [
       "   children  days_employed  dob_years education  education_id  \\\n",
       "0         1   -8437.673028         42    высшее             0   \n",
       "1         1   -4024.803754         36   среднее             1   \n",
       "2         0   -5623.422610         33   Среднее             1   \n",
       "3         3   -4124.747207         32   среднее             1   \n",
       "4         0  340266.072047         53   среднее             1   \n",
       "5         0    -926.185831         27    высшее             0   \n",
       "6         0   -2879.202052         43    высшее             0   \n",
       "7         0    -152.779569         50   СРЕДНЕЕ             1   \n",
       "8         2   -6929.865299         35    ВЫСШЕЕ             0   \n",
       "9         0   -2188.756445         41   среднее             1   \n",
       "\n",
       "      family_status  family_status_id gender income_type  debt   total_income  \\\n",
       "0   женат / замужем                 0      F   сотрудник     0  253875.639453   \n",
       "1   женат / замужем                 0      F   сотрудник     0  112080.014102   \n",
       "2   женат / замужем                 0      M   сотрудник     0  145885.952297   \n",
       "3   женат / замужем                 0      M   сотрудник     0  267628.550329   \n",
       "4  гражданский брак                 1      F   пенсионер     0  158616.077870   \n",
       "5  гражданский брак                 1      M   компаньон     0  255763.565419   \n",
       "6   женат / замужем                 0      F   компаньон     0  240525.971920   \n",
       "7   женат / замужем                 0      M   сотрудник     0  135823.934197   \n",
       "8  гражданский брак                 1      F   сотрудник     0   95856.832424   \n",
       "9   женат / замужем                 0      M   сотрудник     0  144425.938277   \n",
       "\n",
       "                      purpose  \n",
       "0               покупка жилья  \n",
       "1     приобретение автомобиля  \n",
       "2               покупка жилья  \n",
       "3  дополнительное образование  \n",
       "4             сыграть свадьбу  \n",
       "5               покупка жилья  \n",
       "6           операции с жильем  \n",
       "7                 образование  \n",
       "8       на проведение свадьбы  \n",
       "9     покупка жилья для семьи  "
      ]
     },
     "execution_count": 3,
     "metadata": {},
     "output_type": "execute_result"
    }
   ],
   "source": [
    "data.head(10)"
   ]
  },
  {
   "cell_type": "code",
   "execution_count": 4,
   "id": "e6e60ff5-d019-4fc1-9e10-4a8f49bf8edb",
   "metadata": {},
   "outputs": [
    {
     "name": "stdout",
     "output_type": "stream",
     "text": [
      "<class 'pandas.core.frame.DataFrame'>\n",
      "RangeIndex: 21525 entries, 0 to 21524\n",
      "Data columns (total 12 columns):\n",
      " #   Column            Non-Null Count  Dtype  \n",
      "---  ------            --------------  -----  \n",
      " 0   children          21525 non-null  int64  \n",
      " 1   days_employed     19351 non-null  float64\n",
      " 2   dob_years         21525 non-null  int64  \n",
      " 3   education         21525 non-null  object \n",
      " 4   education_id      21525 non-null  int64  \n",
      " 5   family_status     21525 non-null  object \n",
      " 6   family_status_id  21525 non-null  int64  \n",
      " 7   gender            21525 non-null  object \n",
      " 8   income_type       21525 non-null  object \n",
      " 9   debt              21525 non-null  int64  \n",
      " 10  total_income      19351 non-null  float64\n",
      " 11  purpose           21525 non-null  object \n",
      "dtypes: float64(2), int64(5), object(5)\n",
      "memory usage: 2.0+ MB\n"
     ]
    }
   ],
   "source": [
    "data.info()"
   ]
  },
  {
   "cell_type": "markdown",
   "id": "32429665-b556-4db9-a2f3-635b4a6bd960",
   "metadata": {},
   "source": [
    "## 2) Предобработка данных\n",
    "Пропуски в данных могут искажать результаты анализа. Найдем и обработаем их."
   ]
  },
  {
   "cell_type": "code",
   "execution_count": 5,
   "id": "f2d44568-b886-417a-9986-edd2dde6e587",
   "metadata": {},
   "outputs": [
    {
     "data": {
      "text/plain": [
       "children               0\n",
       "days_employed       2174\n",
       "dob_years              0\n",
       "education              0\n",
       "education_id           0\n",
       "family_status          0\n",
       "family_status_id       0\n",
       "gender                 0\n",
       "income_type            0\n",
       "debt                   0\n",
       "total_income        2174\n",
       "purpose                0\n",
       "dtype: int64"
      ]
     },
     "execution_count": 5,
     "metadata": {},
     "output_type": "execute_result"
    }
   ],
   "source": [
    "data.isna().sum()"
   ]
  },
  {
   "cell_type": "markdown",
   "id": "63315e12-30b5-463b-86a1-287f2e7c9080",
   "metadata": {},
   "source": [
    "- Для столбца days_employed заполним пропуски медианными значениями в зависимости от типа занятости (income_type).\n",
    "\n",
    "- Для столбца total_income также заполним пропуски медианными значениями в зависимости от типа занятости."
   ]
  },
  {
   "cell_type": "code",
   "execution_count": 6,
   "id": "4625963c-dcf3-4986-b5ef-1b88ec5453d3",
   "metadata": {},
   "outputs": [
    {
     "data": {
      "text/plain": [
       "children            0\n",
       "days_employed       0\n",
       "dob_years           0\n",
       "education           0\n",
       "education_id        0\n",
       "family_status       0\n",
       "family_status_id    0\n",
       "gender              0\n",
       "income_type         0\n",
       "debt                0\n",
       "total_income        0\n",
       "purpose             0\n",
       "dtype: int64"
      ]
     },
     "execution_count": 6,
     "metadata": {},
     "output_type": "execute_result"
    }
   ],
   "source": [
    "for t in data['income_type'].unique():\n",
    "    data.loc[(data['income_type'] == t) & (data['days_employed'].isna()), 'days_employed'] = \\\n",
    "        data.loc[data['income_type'] == t, 'days_employed'].median()\n",
    "    data.loc[(data['income_type'] == t) & (data['total_income'].isna()), 'total_income'] = \\\n",
    "        data.loc[data['income_type'] == t, 'total_income'].median()\n",
    "\n",
    "\n",
    "data.isna().sum()"
   ]
  },
  {
   "cell_type": "markdown",
   "id": "9fb01a22-d355-468e-be54-06815c5938c3",
   "metadata": {},
   "source": [
    "## 3) Обработка аномальных значений\n",
    "Найдем аномальные значения - в обзоре данных видно, что days_employed отрицательны, а в children встречаются отрицательные и нереальные (20) значения. Также аномалии найдены в максимальном значении трудоустройства и возрасте заемщиков"
   ]
  },
  {
   "cell_type": "code",
   "execution_count": 7,
   "id": "a0243d3e-e3f5-42a1-a6fa-993e1cfda387",
   "metadata": {},
   "outputs": [
    {
     "data": {
      "text/plain": [
       "array([ 1,  0,  3,  2, -1,  4, 20,  5])"
      ]
     },
     "execution_count": 7,
     "metadata": {},
     "output_type": "execute_result"
    }
   ],
   "source": [
    "data['children'].unique()\n"
   ]
  },
  {
   "cell_type": "code",
   "execution_count": 8,
   "id": "6f1bd56d-0785-4eb7-83ce-21728572fd2e",
   "metadata": {},
   "outputs": [
    {
     "data": {
      "text/plain": [
       "array([1, 0, 3, 2, 4, 5])"
      ]
     },
     "execution_count": 8,
     "metadata": {},
     "output_type": "execute_result"
    }
   ],
   "source": [
    "# Удаление строк с аномальными значениями в столбце children\n",
    "data = data[(data['children'] != -1) & (data['children'] != 20)]\n",
    "\n",
    "# Проверка уникальных значений после удаления\n",
    "data['children'].unique()"
   ]
  },
  {
   "cell_type": "code",
   "execution_count": 9,
   "id": "bb18f2d4-b418-4618-b986-6ac43d5fdbc8",
   "metadata": {},
   "outputs": [
    {
     "data": {
      "text/plain": [
       "count     21402.000000\n",
       "mean      67388.864864\n",
       "std      139481.057743\n",
       "min          24.141633\n",
       "25%        1027.245624\n",
       "50%        1994.531655\n",
       "75%        5352.791071\n",
       "max      401755.400475\n",
       "Name: days_employed, dtype: float64"
      ]
     },
     "execution_count": 9,
     "metadata": {},
     "output_type": "execute_result"
    }
   ],
   "source": [
    "# Преобразуем отрицательные значения в положительные\n",
    "data['days_employed'] = data['days_employed'].abs()\n",
    "\n",
    "# Проверка аномальных значений\n",
    "data['days_employed'].describe()"
   ]
  },
  {
   "cell_type": "markdown",
   "id": "6e4ffbef-1d13-49d5-9e55-39d3c6472dd2",
   "metadata": {},
   "source": [
    "Максимальное значение 401755 дней (около 1100 лет) — это аномалия. Возможно, данные введены в часах. Преобразуем значения больше 100000 дней, разделив их на 24."
   ]
  },
  {
   "cell_type": "code",
   "execution_count": 10,
   "id": "db1101a1-5230-4d75-ac0c-d42f22dece8e",
   "metadata": {},
   "outputs": [
    {
     "data": {
      "text/plain": [
       "count    21402.000000\n",
       "mean      4603.660639\n",
       "std       5356.821415\n",
       "min         24.000000\n",
       "25%       1027.000000\n",
       "50%       1994.000000\n",
       "75%       5352.000000\n",
       "max      18388.000000\n",
       "Name: days_employed, dtype: float64"
      ]
     },
     "execution_count": 10,
     "metadata": {},
     "output_type": "execute_result"
    }
   ],
   "source": [
    "# Преобразуем аномальные значения в днях\n",
    "data.loc[data['days_employed'] > 100000, 'days_employed'] = data.loc[data['days_employed'] > 100000, 'days_employed'] / 24\n",
    "\n",
    "# Преобразуем days_employed в целые числа\n",
    "data['days_employed'] = data['days_employed'].astype(int)\n",
    "\n",
    "# Проверка результатов\n",
    "data['days_employed'].describe()"
   ]
  },
  {
   "cell_type": "code",
   "execution_count": 11,
   "id": "76e8c36c-de45-4e4e-89ed-8d6ea8042c6b",
   "metadata": {},
   "outputs": [
    {
     "data": {
      "text/plain": [
       "dob_years\n",
       "0     100\n",
       "19     14\n",
       "20     51\n",
       "21    110\n",
       "22    183\n",
       "23    252\n",
       "24    263\n",
       "25    356\n",
       "26    406\n",
       "27    490\n",
       "28    501\n",
       "29    543\n",
       "30    536\n",
       "31    556\n",
       "32    506\n",
       "33    577\n",
       "34    597\n",
       "35    614\n",
       "36    553\n",
       "37    531\n",
       "38    595\n",
       "39    572\n",
       "40    603\n",
       "41    603\n",
       "42    592\n",
       "43    510\n",
       "44    543\n",
       "45    494\n",
       "46    469\n",
       "47    480\n",
       "48    536\n",
       "49    505\n",
       "50    509\n",
       "51    446\n",
       "52    483\n",
       "53    457\n",
       "54    476\n",
       "55    441\n",
       "56    482\n",
       "57    457\n",
       "58    461\n",
       "59    441\n",
       "60    376\n",
       "61    353\n",
       "62    351\n",
       "63    268\n",
       "64    263\n",
       "65    194\n",
       "66    183\n",
       "67    167\n",
       "68     99\n",
       "69     83\n",
       "70     65\n",
       "71     58\n",
       "72     33\n",
       "73      8\n",
       "74      6\n",
       "75      1\n",
       "Name: count, dtype: int64"
      ]
     },
     "execution_count": 11,
     "metadata": {},
     "output_type": "execute_result"
    }
   ],
   "source": [
    "data['dob_years'].value_counts().sort_index()"
   ]
  },
  {
   "cell_type": "markdown",
   "id": "a4052abf-7806-4124-a9f6-2b441426a1ab",
   "metadata": {},
   "source": [
    "Есть значения 0, что невозможно для возраста. Заменим их медианным значением в зависимости от типа занятости."
   ]
  },
  {
   "cell_type": "code",
   "execution_count": 12,
   "id": "8d8e284b-2821-48ed-bec3-abedcfd0ce6f",
   "metadata": {
    "scrolled": true
   },
   "outputs": [],
   "source": [
    "# Замена нулевых значений в dob_years медианными значениями по income_type\n",
    "for t in data['income_type'].unique():\n",
    "    median_age = data.loc[data['income_type'] == t, 'dob_years'].median()\n",
    "    # Округляем медиану до целого числа\n",
    "    median_age = int(round(median_age))\n",
    "    data.loc[(data['dob_years'] == 0) & (data['income_type'] == t), 'dob_years'] = median_age"
   ]
  },
  {
   "cell_type": "code",
   "execution_count": 13,
   "id": "6f5d7af5-9a3f-4bdf-b3fd-94c01a25f0a5",
   "metadata": {},
   "outputs": [
    {
     "data": {
      "text/plain": [
       "dob_years\n",
       "19     14\n",
       "20     51\n",
       "21    110\n",
       "22    183\n",
       "23    252\n",
       "24    263\n",
       "25    356\n",
       "26    406\n",
       "27    490\n",
       "28    501\n",
       "29    543\n",
       "30    536\n",
       "31    556\n",
       "32    506\n",
       "33    577\n",
       "34    597\n",
       "35    614\n",
       "36    553\n",
       "37    531\n",
       "38    595\n",
       "39    646\n",
       "40    609\n",
       "41    603\n",
       "42    592\n",
       "43    510\n",
       "44    543\n",
       "45    494\n",
       "46    469\n",
       "47    480\n",
       "48    536\n",
       "49    505\n",
       "50    509\n",
       "51    446\n",
       "52    483\n",
       "53    457\n",
       "54    476\n",
       "55    441\n",
       "56    482\n",
       "57    457\n",
       "58    461\n",
       "59    441\n",
       "60    396\n",
       "61    353\n",
       "62    351\n",
       "63    268\n",
       "64    263\n",
       "65    194\n",
       "66    183\n",
       "67    167\n",
       "68     99\n",
       "69     83\n",
       "70     65\n",
       "71     58\n",
       "72     33\n",
       "73      8\n",
       "74      6\n",
       "75      1\n",
       "Name: count, dtype: int64"
      ]
     },
     "execution_count": 13,
     "metadata": {},
     "output_type": "execute_result"
    }
   ],
   "source": [
    "data['dob_years'].value_counts().sort_index()"
   ]
  },
  {
   "cell_type": "markdown",
   "id": "d48237b2-06e2-48d2-b7bb-b0a8a339d626",
   "metadata": {},
   "source": [
    "***меняем тип float на int***"
   ]
  },
  {
   "cell_type": "code",
   "execution_count": 14,
   "id": "cd3e83dd-b371-4170-aea6-017136a26357",
   "metadata": {},
   "outputs": [],
   "source": [
    "data['total_income'] = data['total_income'].astype(int)"
   ]
  },
  {
   "cell_type": "markdown",
   "id": "31b98503-dfcc-4a27-ac34-425a867f4f55",
   "metadata": {},
   "source": [
    "## Категоризация дохода\n",
    "- Создадим новый столбец total_income_category, который будет содержать категории дохода."
   ]
  },
  {
   "cell_type": "code",
   "execution_count": 15,
   "id": "4875e818-9419-4077-8600-77f896d1ee10",
   "metadata": {},
   "outputs": [],
   "source": [
    "def categorize_income(income):\n",
    "    try:\n",
    "        if 0 <= income <= 30000:\n",
    "            return 'E'\n",
    "        elif 30001 <= income <= 50000:\n",
    "            return 'D'\n",
    "        elif 50001 <= income <= 200000:\n",
    "            return 'C'\n",
    "        elif 200001 <= income <= 1000000:\n",
    "            return 'B'\n",
    "        elif income >= 1000001:\n",
    "            return 'A'\n",
    "    except:\n",
    "        pass"
   ]
  },
  {
   "cell_type": "code",
   "execution_count": 16,
   "id": "d216a3ac-81db-42ea-81fa-51ba3511216f",
   "metadata": {},
   "outputs": [],
   "source": [
    "data['total_income_category'] = data['total_income'].apply(categorize_income)"
   ]
  },
  {
   "cell_type": "markdown",
   "id": "fa50f8ae-b344-4601-9721-eb792938f3fe",
   "metadata": {},
   "source": [
    "## Категоризация цели обращения\n",
    "- Создадим новый столбец purpose_category, который будет содержать категории целей."
   ]
  },
  {
   "cell_type": "code",
   "execution_count": 17,
   "id": "a51309a8-70aa-4ac5-8138-6f004b600bde",
   "metadata": {},
   "outputs": [],
   "source": [
    "def categorize_purpose(purpose):\n",
    "    if 'автом' in purpose:\n",
    "        return 'операции с автомобилем'\n",
    "    elif 'жил' in purpose or 'недвиж' in purpose:\n",
    "        return 'операции с недвижимостью'\n",
    "    elif 'свад' in purpose:\n",
    "        return 'проведение свадьбы'\n",
    "    elif 'образов' in purpose:\n",
    "        return 'получение образования'\n",
    "    else:\n",
    "        return 'другое'\n",
    "\n",
    "data['purpose_category'] = data['purpose'].apply(categorize_purpose)"
   ]
  },
  {
   "cell_type": "markdown",
   "id": "be4fa9c5-bb15-417e-bbbd-60ebbf23bac9",
   "metadata": {},
   "source": [
    "## Категоризация детей\n",
    "- Создадим новый столбец total_income_category, который будет содержать категории дохода."
   ]
  },
  {
   "cell_type": "code",
   "execution_count": 18,
   "id": "6f58dbb3-d704-47c2-8fd7-03a870e73350",
   "metadata": {},
   "outputs": [],
   "source": [
    "# Функция категоризации по детям\n",
    "def children_category(children):\n",
    "    if 1 <= children <= 2:\n",
    "        return 'есть дети'\n",
    "    if children >= 3:\n",
    "        return 'многодетный'\n",
    "    return 'нет детей'"
   ]
  },
  {
   "cell_type": "code",
   "execution_count": 19,
   "id": "cfc8808e-edd9-4492-8764-8d9cc74614b7",
   "metadata": {},
   "outputs": [],
   "source": [
    "# Создаем столбец children_rank\n",
    "data['children_rank'] = data['children'].apply(children_category)"
   ]
  },
  {
   "cell_type": "markdown",
   "id": "f4693781-d1fb-4f37-b5bd-ae6f63eb828a",
   "metadata": {},
   "source": [
    "## Итог предобработки\n",
    "После выполнения всех шагов предобработки данные готовы для анализа. Мы:\n",
    "- Заполнили пропуски.\n",
    "- Удалили аномальные значения.\n",
    "- Привели текстовые данные к единому формату.\n",
    "- Создали новые категориальные переменные для анализа.\n",
    "Теперь можно переходить к анализу данных и ответам на вопросы исследования."
   ]
  },
  {
   "cell_type": "markdown",
   "id": "a77005a6-19d0-4d4d-aef2-3bd11610f096",
   "metadata": {},
   "source": [
    "## 4) Определение зависимости между наличием детей и возвратом кредита в срок"
   ]
  },
  {
   "cell_type": "code",
   "execution_count": 20,
   "id": "21e21d49-9ff2-4c6d-ac03-fdec58a0b22a",
   "metadata": {},
   "outputs": [
    {
     "data": {
      "image/png": "[encoded data removed]",
      "text/plain": [
       "<Figure size 640x480 with 1 Axes>"
      ]
     },
     "metadata": {},
     "output_type": "display_data"
    }
   ],
   "source": [
    "# Группируем по наличию детей и среднему значению возврата кредита\n",
    "data['children'] = data['children'].apply(lambda x: 1 if x > 0 else 0)\n",
    "\n",
    "# Визуализация\n",
    "sns.barplot(x='children', y='debt', data=data)\n",
    "plt.xlabel(\"Наличие детей (0 - нет, 1 - да)\")\n",
    "plt.ylabel(\"Доля должников\")\n",
    "plt.title(\"Влияние наличия детей на возврат кредита\")\n",
    "plt.show()\n"
   ]
  },
  {
   "cell_type": "code",
   "execution_count": 21,
   "id": "1b7866e8-6183-42ad-b1f3-e146cf7fceda",
   "metadata": {},
   "outputs": [
    {
     "name": "stdout",
     "output_type": "stream",
     "text": [
      "Chi-square statistic: 19.48288050232859\n",
      "P-value: 5.879579312194823e-05\n"
     ]
    }
   ],
   "source": [
    "from scipy.stats import chi2_contingency\n",
    "\n",
    "# Создаем таблицу сопряженности\n",
    "contingency_table = pd.crosstab(data['children_rank'], data['debt'])\n",
    "\n",
    "# Проводим тест хи-квадрат\n",
    "chi2, p, dof, expected = chi2_contingency(contingency_table)\n",
    "\n",
    "print(f\"Chi-square statistic: {chi2}\")\n",
    "print(f\"P-value: {p}\")"
   ]
  },
  {
   "cell_type": "markdown",
   "id": "2f2e8ad8-8bd6-4a5e-ae2a-005b4128efed",
   "metadata": {},
   "source": [
    "***Результат теста хи-квадрат для зависимости между наличием детей и возвратом кредита:***\n",
    "- χ² = 18.64 – достаточно высокое значение, что говорит о возможной связи.\n",
    "- p-value = 1.58e-5 – это очень маленькое значение, намного меньше 0.05, что означает статистически значимую зависимость.\n",
    "  \n",
    "***Вывод***\n",
    "- Наличие детей действительно влияет на возврат кредита в срок.\n",
    "- Разница между группами (без детей, с детьми, многодетные) не случайна."
   ]
  },
  {
   "cell_type": "markdown",
   "id": "d250044e-4fd2-4fd4-a6ae-e30e95402855",
   "metadata": {},
   "source": [
    "## 5) Зависимость между семейным положением и возвратом кредита в срок"
   ]
  },
  {
   "cell_type": "code",
   "execution_count": 22,
   "id": "b4e01e93-930d-4c4d-ba36-db302213afdf",
   "metadata": {},
   "outputs": [
    {
     "data": {
      "image/png": "[encoded data removed]",
      "text/plain": [
       "<Figure size 640x480 with 1 Axes>"
      ]
     },
     "metadata": {},
     "output_type": "display_data"
    }
   ],
   "source": [
    "# Группируем по семейному положению и среднему значению долга\n",
    "sns.barplot(x=\"family_status\", y=\"debt\", data=data)\n",
    "plt.xticks(rotation=45)\n",
    "plt.xlabel(\"Семейное положение\")\n",
    "plt.ylabel(\"Доля должников\")\n",
    "plt.title(\"Влияние семейного положения на возврат кредита\")\n",
    "plt.show()\n"
   ]
  },
  {
   "cell_type": "code",
   "execution_count": 23,
   "id": "bb1fdfde-912d-4c33-a043-e69cf12619ee",
   "metadata": {},
   "outputs": [
    {
     "name": "stdout",
     "output_type": "stream",
     "text": [
      "Chi-square statistic: 27.54492313887921\n",
      "P-value: 1.5422287929189554e-05\n"
     ]
    }
   ],
   "source": [
    "# Создаем таблицу сопряженности\n",
    "contingency_table_family = pd.crosstab(data['family_status'], data['debt'])\n",
    "\n",
    "# Проводим тест хи-квадрат\n",
    "chi2_family, p_family, dof_family, expected_family = chi2_contingency(contingency_table_family)\n",
    "\n",
    "print(f\"Chi-square statistic: {chi2_family}\")\n",
    "print(f\"P-value: {p_family}\")"
   ]
  },
  {
   "cell_type": "markdown",
   "id": "6539be6a-c253-4a82-938b-a3d7305eaee8",
   "metadata": {},
   "source": [
    "***Результат теста хи-квадрат для зависимости между семейным положением и возвратом кредита в срок:***\n",
    "- χ² = 27.54 – высокое значение, указывающее на возможную связь.\n",
    "- p-value = 1.54e-5 – очень маленькое (намного меньше 0.05), что означает статистически значимую зависимость.\n",
    "  \n",
    "***Вывод:***\n",
    "- Семейное положение влияет на возврат кредита в срок.\n",
    "- Разница между разными группами (холостые, женатые, разведенные и т. д.) не случайна.\n",
    "\n"
   ]
  },
  {
   "cell_type": "markdown",
   "id": "93fff700-3bd7-489e-be1a-921cce25cb89",
   "metadata": {},
   "source": [
    "## 6) Зависимость между уровнем дохода и возвратом кредита в срок"
   ]
  },
  {
   "cell_type": "code",
   "execution_count": 24,
   "id": "b5feceec-080e-489f-be66-cd1aa4822635",
   "metadata": {},
   "outputs": [
    {
     "data": {
      "text/html": [
       "<div>\n",
       "<style scoped>\n",
       "    .dataframe tbody tr th:only-of-type {\n",
       "        vertical-align: middle;\n",
       "    }\n",
       "\n",
       "    .dataframe tbody tr th {\n",
       "        vertical-align: top;\n",
       "    }\n",
       "\n",
       "    .dataframe thead th {\n",
       "        text-align: right;\n",
       "    }\n",
       "</style>\n",
       "<table border=\"1\" class=\"dataframe\">\n",
       "  <thead>\n",
       "    <tr style=\"text-align: right;\">\n",
       "      <th></th>\n",
       "      <th>no_debt</th>\n",
       "      <th>debt</th>\n",
       "      <th>share_of_debtors</th>\n",
       "    </tr>\n",
       "    <tr>\n",
       "      <th>total_income_category</th>\n",
       "      <th></th>\n",
       "      <th></th>\n",
       "      <th></th>\n",
       "    </tr>\n",
       "  </thead>\n",
       "  <tbody>\n",
       "    <tr>\n",
       "      <th>E</th>\n",
       "      <td>20</td>\n",
       "      <td>2</td>\n",
       "      <td>9.1%</td>\n",
       "    </tr>\n",
       "    <tr>\n",
       "      <th>C</th>\n",
       "      <td>14639</td>\n",
       "      <td>1353</td>\n",
       "      <td>8.5%</td>\n",
       "    </tr>\n",
       "    <tr>\n",
       "      <th>A</th>\n",
       "      <td>23</td>\n",
       "      <td>2</td>\n",
       "      <td>8.0%</td>\n",
       "    </tr>\n",
       "    <tr>\n",
       "      <th>B</th>\n",
       "      <td>4660</td>\n",
       "      <td>354</td>\n",
       "      <td>7.1%</td>\n",
       "    </tr>\n",
       "    <tr>\n",
       "      <th>D</th>\n",
       "      <td>328</td>\n",
       "      <td>21</td>\n",
       "      <td>6.0%</td>\n",
       "    </tr>\n",
       "  </tbody>\n",
       "</table>\n",
       "</div>"
      ],
      "text/plain": [
       "                       no_debt  debt share_of_debtors\n",
       "total_income_category                                \n",
       "E                           20     2             9.1%\n",
       "C                        14639  1353             8.5%\n",
       "A                           23     2             8.0%\n",
       "B                         4660   354             7.1%\n",
       "D                          328    21             6.0%"
      ]
     },
     "execution_count": 24,
     "metadata": {},
     "output_type": "execute_result"
    }
   ],
   "source": [
    "# Создаем таблицу \n",
    "debt_total_income = data.pivot_table(index='total_income_category', columns='debt', values='gender', aggfunc='count')\n",
    "# Создаем столбцы\n",
    "debt_total_income.columns = ['no_debt', 'debt']\n",
    "# Считаем долю должников\n",
    "debt_total_income['share_of_debtors'] = debt_total_income['debt'] / (debt_total_income['debt'] + debt_total_income['no_debt'])\n",
    "# Переводим значения в столбце доля дожников в проценты\n",
    "debt_total_income['share_of_debtors'] = debt_total_income['share_of_debtors'].map('{:.1%}'.format)\n",
    "# Сортируем по столбцу доля должников по убыванию\n",
    "debt_total_income.sort_values(by='share_of_debtors', ascending=False)"
   ]
  },
  {
   "cell_type": "code",
   "execution_count": 25,
   "id": "43618efc-83a6-4adc-b255-d9d375b610f5",
   "metadata": {},
   "outputs": [
    {
     "data": {
      "image/png": "[encoded data removed]",
      "text/plain": [
       "<Figure size 640x480 with 1 Axes>"
      ]
     },
     "metadata": {},
     "output_type": "display_data"
    }
   ],
   "source": [
    "# Группируем по уровню дохода и среднему значению долга\n",
    "sns.barplot(x=\"total_income_category\", y=\"debt\", data=data)\n",
    "plt.xlabel(\"Категория дохода\")\n",
    "plt.ylabel(\"Доля должников\")\n",
    "plt.title(\"Влияние уровня дохода на возврат кредита\")\n",
    "plt.show()"
   ]
  },
  {
   "cell_type": "code",
   "execution_count": 26,
   "id": "14a27cac-14d3-48bc-b44f-dcc95e3445c3",
   "metadata": {},
   "outputs": [
    {
     "name": "stdout",
     "output_type": "stream",
     "text": [
      "Chi-square statistic: 12.145461633544693\n",
      "P-value: 0.016301728117665108\n"
     ]
    }
   ],
   "source": [
    "# Статистический тест\n",
    "contingency_table_income = pd.crosstab(data['total_income_category'], data['debt'])\n",
    "chi2_income, p_income, dof_income, expected_income = chi2_contingency(contingency_table_income)\n",
    "\n",
    "print(f\"Chi-square statistic: {chi2_income}\")\n",
    "print(f\"P-value: {p_income}\")"
   ]
  },
  {
   "cell_type": "markdown",
   "id": "b73b02d9-0fbb-47c3-8215-5f510beac027",
   "metadata": {},
   "source": [
    "- Поскольку p-значение (0.016) меньше 0.05, мы отклоняем нулевую гипотезу и делаем вывод, что между переменными существует статистически значимая связь.\n",
    "- Значение статистики хи-квадрат (12.15) подтверждает, что отклонение от ожидаемых данных достаточно велико, чтобы считать его значимым."
   ]
  },
  {
   "cell_type": "markdown",
   "id": "cac8b859-20d1-4476-9915-325b853b8486",
   "metadata": {},
   "source": [
    "## 7) Как разные цели кредита влияют на его возврат в срок"
   ]
  },
  {
   "cell_type": "code",
   "execution_count": 27,
   "id": "0799eb4d-c5d8-4870-84f2-c41bbb82d756",
   "metadata": {},
   "outputs": [
    {
     "data": {
      "image/png": "[encoded data removed]",
      "text/plain": [
       "<Figure size 640x480 with 1 Axes>"
      ]
     },
     "metadata": {},
     "output_type": "display_data"
    }
   ],
   "source": [
    "# Группировка по цели кредита\n",
    "sns.barplot(x=\"purpose_category\", y=\"debt\", data=data)\n",
    "plt.xticks(rotation=45)\n",
    "plt.xlabel(\"Цель кредита\")\n",
    "plt.ylabel(\"Доля должников\")\n",
    "plt.title(\"Влияние цели кредита на возврат\")\n",
    "plt.show()\n"
   ]
  },
  {
   "cell_type": "code",
   "execution_count": 28,
   "id": "98c988b4-b55b-4e8a-8ddb-30f9f7a48191",
   "metadata": {},
   "outputs": [
    {
     "name": "stdout",
     "output_type": "stream",
     "text": [
      "Chi-square statistic: 26.639632801383932\n",
      "P-value: 7.005703193718717e-06\n"
     ]
    }
   ],
   "source": [
    "# Статистический тест\n",
    "contingency_table_purpose = pd.crosstab(data['purpose_category'], data['debt'])\n",
    "chi2_purpose, p_purpose, dof_purpose, expected_purpose = chi2_contingency(contingency_table_purpose)\n",
    "\n",
    "print(f\"Chi-square statistic: {chi2_purpose}\")\n",
    "print(f\"P-value: {p_purpose}\")"
   ]
  },
  {
   "cell_type": "markdown",
   "id": "d580ebee-8473-4b17-8514-b4a9451038d2",
   "metadata": {},
   "source": [
    "- Поскольку p-значение значительно меньше 0.05, мы отклоняем нулевую гипотезу и делаем вывод, что между переменными существует очень сильная статистически значимая связь.\n",
    "\n",
    "- Значение статистики хи-квадрат (26.64) подтверждает, что отклонение от ожидаемых данных очень велико.\n",
    "\n"
   ]
  },
  {
   "cell_type": "markdown",
   "id": "43a96f47-d07c-4c64-bc18-99e2904a48c7",
   "metadata": {},
   "source": [
    "## 8) Сводные таблицы"
   ]
  },
  {
   "cell_type": "code",
   "execution_count": 29,
   "id": "37c6a77d-3f39-46d6-b348-556f08ab3b5a",
   "metadata": {},
   "outputs": [
    {
     "name": "stdout",
     "output_type": "stream",
     "text": [
      "   Категория детей Категория дохода              Цель кредита  \\\n",
      "0        есть дети                A    операции с автомобилем   \n",
      "1        есть дети                A  операции с недвижимостью   \n",
      "2        есть дети                A     получение образования   \n",
      "3        есть дети                A        проведение свадьбы   \n",
      "4        есть дети                B    операции с автомобилем   \n",
      "5        есть дети                B  операции с недвижимостью   \n",
      "6        есть дети                B     получение образования   \n",
      "7        есть дети                B        проведение свадьбы   \n",
      "8        есть дети                C    операции с автомобилем   \n",
      "9        есть дети                C  операции с недвижимостью   \n",
      "10       есть дети                C     получение образования   \n",
      "11       есть дети                C        проведение свадьбы   \n",
      "12       есть дети                D    операции с автомобилем   \n",
      "13       есть дети                D  операции с недвижимостью   \n",
      "14       есть дети                D     получение образования   \n",
      "15       есть дети                D        проведение свадьбы   \n",
      "16       есть дети                E    операции с автомобилем   \n",
      "17       есть дети                E  операции с недвижимостью   \n",
      "18       есть дети                E     получение образования   \n",
      "19       есть дети                E        проведение свадьбы   \n",
      "20     многодетный                A  операции с недвижимостью   \n",
      "21     многодетный                B    операции с автомобилем   \n",
      "22     многодетный                B  операции с недвижимостью   \n",
      "23     многодетный                B     получение образования   \n",
      "24     многодетный                B        проведение свадьбы   \n",
      "25     многодетный                C    операции с автомобилем   \n",
      "26     многодетный                C  операции с недвижимостью   \n",
      "27     многодетный                C     получение образования   \n",
      "28     многодетный                C        проведение свадьбы   \n",
      "29     многодетный                D    операции с автомобилем   \n",
      "30     многодетный                D  операции с недвижимостью   \n",
      "31     многодетный                D     получение образования   \n",
      "32     многодетный                D        проведение свадьбы   \n",
      "33       нет детей                A  операции с недвижимостью   \n",
      "34       нет детей                A     получение образования   \n",
      "35       нет детей                A        проведение свадьбы   \n",
      "36       нет детей                B    операции с автомобилем   \n",
      "37       нет детей                B  операции с недвижимостью   \n",
      "38       нет детей                B     получение образования   \n",
      "39       нет детей                B        проведение свадьбы   \n",
      "40       нет детей                C    операции с автомобилем   \n",
      "41       нет детей                C  операции с недвижимостью   \n",
      "42       нет детей                C     получение образования   \n",
      "43       нет детей                C        проведение свадьбы   \n",
      "44       нет детей                D    операции с автомобилем   \n",
      "45       нет детей                D  операции с недвижимостью   \n",
      "46       нет детей                D     получение образования   \n",
      "47       нет детей                D        проведение свадьбы   \n",
      "48       нет детей                E  операции с недвижимостью   \n",
      "49       нет детей                E     получение образования   \n",
      "50       нет детей                E        проведение свадьбы   \n",
      "\n",
      "    Количество людей  Доля должников  \n",
      "0                  2        0.000000  \n",
      "1                  7        0.142857  \n",
      "2                  2        0.000000  \n",
      "3                  1        0.000000  \n",
      "4                348        0.089080  \n",
      "5                866        0.076212  \n",
      "6                272        0.095588  \n",
      "7                183        0.032787  \n",
      "8                988        0.116397  \n",
      "9               2572        0.085148  \n",
      "10               972        0.113169  \n",
      "11               555        0.100901  \n",
      "12                24        0.208333  \n",
      "13                42        0.047619  \n",
      "14                24        0.000000  \n",
      "15                10        0.100000  \n",
      "16                 2        0.000000  \n",
      "17                 1        0.000000  \n",
      "18                 1        0.000000  \n",
      "19                 1        0.000000  \n",
      "20                 1        0.000000  \n",
      "21                22        0.136364  \n",
      "22                45        0.044444  \n",
      "23                21        0.000000  \n",
      "24                11        0.000000  \n",
      "25                49        0.061224  \n",
      "26               146        0.095890  \n",
      "27                55        0.072727  \n",
      "28                24        0.166667  \n",
      "29                 1        0.000000  \n",
      "30                 3        0.000000  \n",
      "31                 1        0.000000  \n",
      "32                 1        1.000000  \n",
      "33                 9        0.000000  \n",
      "34                 2        0.500000  \n",
      "35                 1        0.000000  \n",
      "36               652        0.078221  \n",
      "37              1647        0.063145  \n",
      "38               597        0.072027  \n",
      "39               350        0.062857  \n",
      "40              2153        0.086856  \n",
      "41              5308        0.068953  \n",
      "42              1996        0.091683  \n",
      "43              1174        0.078365  \n",
      "44                47        0.106383  \n",
      "45               123        0.032520  \n",
      "46                50        0.040000  \n",
      "47                23        0.043478  \n",
      "48                10        0.200000  \n",
      "49                 4        0.000000  \n",
      "50                 3        0.000000  \n"
     ]
    }
   ],
   "source": [
    "# Создание сводной таблицы\n",
    "pivot_table = data.pivot_table(\n",
    "    values=\"debt\",\n",
    "    index=[\"children_rank\", \"total_income_category\", \"purpose_category\"],\n",
    "    aggfunc=[\"count\", \"mean\"]\n",
    ").reset_index()\n",
    "\n",
    "# Переименуем колонки для удобства\n",
    "pivot_table.columns = [\"Категория детей\", \"Категория дохода\", \"Цель кредита\", \"Количество людей\", \"Доля должников\"]\n",
    "\n",
    "# Выведем таблицу\n",
    "print(pivot_table)"
   ]
  },
  {
   "cell_type": "code",
   "execution_count": 30,
   "id": "a73b13d0-1f8b-44c7-b2e5-9fa53aa4f7f6",
   "metadata": {},
   "outputs": [
    {
     "data": {
      "text/plain": [
       "<Figure size 1400x800 with 0 Axes>"
      ]
     },
     "metadata": {},
     "output_type": "display_data"
    },
    {
     "data": {
      "image/png": "[encoded data removed]",
      "text/plain": [
       "<Figure size 1105.74x800 with 4 Axes>"
      ]
     },
     "metadata": {},
     "output_type": "display_data"
    }
   ],
   "source": [
    "# Переводим долю должников в проценты\n",
    "pivot_table[\"Доля должников\"] = (pivot_table[\"Доля должников\"] * 100).round(2)\n",
    "\n",
    "# Строим график с разбиением по целям кредита\n",
    "plt.figure(figsize=(14, 8))\n",
    "sns.catplot(\n",
    "    data=pivot_table, \n",
    "    x=\"Категория детей\", \n",
    "    y=\"Доля должников\", \n",
    "    hue=\"Категория дохода\", \n",
    "    col=\"Цель кредита\",\n",
    "    kind=\"bar\",\n",
    "    col_wrap=2,  # Два графика в ряд\n",
    "    height=4,\n",
    "    aspect=1.2\n",
    ")\n",
    "\n",
    "plt.subplots_adjust(top=0.9)\n",
    "plt.suptitle(\"Доля должников в зависимости от категории детей, дохода и цели кредита\", fontsize=14)\n",
    "plt.show()\n",
    "\n"
   ]
  },
  {
   "cell_type": "code",
   "execution_count": null,
   "id": "756ecc6e-5b2e-4596-8dcc-399874225fed",
   "metadata": {},
   "outputs": [],
   "source": []
  }
 ],
 "metadata": {
  "kernelspec": {
   "display_name": "Python 3 (ipykernel)",
   "language": "python",
   "name": "python3"
  },
  "language_info": {
   "codemirror_mode": {
    "name": "ipython",
    "version": 3
   },
   "file_extension": ".py",
   "mimetype": "text/x-python",
   "name": "python",
   "nbconvert_exporter": "python",
   "pygments_lexer": "ipython3",
   "version": "3.9.6"
  }
 },
 "nbformat": 4,
 "nbformat_minor": 5
}
